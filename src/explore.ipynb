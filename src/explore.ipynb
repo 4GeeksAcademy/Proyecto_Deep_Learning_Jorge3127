{
    "cells": [
        {
            "cell_type": "markdown",
            "metadata": {},
            "source": [
                "# Explore here"
            ]
        },
        {
            "cell_type": "code",
            "execution_count": 5,
            "metadata": {},
            "outputs": [
                {
                    "ename": "FileNotFoundError",
                    "evalue": "El archivo /workspaces/Proyecto_Deep_Learning_Jorge3127/models/modelo_adaboost_optimizado.pkl no existe",
                    "output_type": "error",
                    "traceback": [
                        "\u001b[0;31m---------------------------------------------------------------------------\u001b[0m",
                        "\u001b[0;31mFileNotFoundError\u001b[0m                         Traceback (most recent call last)",
                        "Cell \u001b[0;32mIn[5], line 12\u001b[0m\n\u001b[1;32m     10\u001b[0m \u001b[38;5;66;03m# Verificar la existencia del archivo del modelo\u001b[39;00m\n\u001b[1;32m     11\u001b[0m \u001b[38;5;28;01mif\u001b[39;00m \u001b[38;5;129;01mnot\u001b[39;00m os\u001b[38;5;241m.\u001b[39mpath\u001b[38;5;241m.\u001b[39mexists(model_path):\n\u001b[0;32m---> 12\u001b[0m     \u001b[38;5;28;01mraise\u001b[39;00m \u001b[38;5;167;01mFileNotFoundError\u001b[39;00m(\u001b[38;5;124mf\u001b[39m\u001b[38;5;124m\"\u001b[39m\u001b[38;5;124mEl archivo \u001b[39m\u001b[38;5;132;01m{\u001b[39;00mmodel_path\u001b[38;5;132;01m}\u001b[39;00m\u001b[38;5;124m no existe\u001b[39m\u001b[38;5;124m\"\u001b[39m)\n\u001b[1;32m     14\u001b[0m \u001b[38;5;66;03m# Cargar el modelo desde el archivo\u001b[39;00m\n\u001b[1;32m     15\u001b[0m \u001b[38;5;28;01mwith\u001b[39;00m \u001b[38;5;28mopen\u001b[39m(model_path, \u001b[38;5;124m\"\u001b[39m\u001b[38;5;124mrb\u001b[39m\u001b[38;5;124m\"\u001b[39m) \u001b[38;5;28;01mas\u001b[39;00m f:\n",
                        "\u001b[0;31mFileNotFoundError\u001b[0m: El archivo /workspaces/Proyecto_Deep_Learning_Jorge3127/models/modelo_adaboost_optimizado.pkl no existe"
                    ]
                }
            ],
            "source": [
                "from flask import Flask, request, render_template\n",
                "from pickle import load\n",
                "import os\n",
                "\n",
                "app = Flask(__name__)\n",
                "\n",
                "# Definir la ruta del modelo correctamente\n",
                "model_path = \"/workspaces/Proyecto_Deep_Learning_Jorge3127/models/modelo_adaboost_optimizado.pkl\"\n",
                "\n",
                "# Verificar la existencia del archivo del modelo\n",
                "if not os.path.exists(model_path):\n",
                "    raise FileNotFoundError(f\"El archivo {model_path} no existe\")\n",
                "\n",
                "# Cargar el modelo desde el archivo\n",
                "with open(model_path, \"rb\") as f:\n",
                "    model = load(f)\n",
                "\n",
                "# Diccionario de clases\n",
                "class_dict = {\n",
                "    \"0\": \"Diabètico\",\n",
                "    \"1\": \"No Diabètico\",\n",
                "}\n",
                "\n",
                "@app.route(\"/\", methods=[\"GET\", \"POST\"])\n",
                "def index():\n",
                "    if request.method == \"POST\":\n",
                "        # Obtener valores del formulario\n",
                "        val1 = float(request.form[\"embarazos\"])\n",
                "        val2 = float(request.form[\"glucosa\"])\n",
                "        val3 = float(request.form[\"insulina\"])\n",
                "        val4 = float(request.form[\"bmi\"])\n",
                "        val5 = float(request.form[\"diabetes\"])\n",
                "        val6 = float(request.form[\"edad\"])\n",
                "\n",
                "        data = [[val1, val2, val3, val4, val5, val6]]\n",
                "        prediction = str(model.predict(data)[0])\n",
                "        pred_class = class_dict[prediction]\n",
                "    else:\n",
                "        pred_class = None\n",
                "\n",
                "    return render_template(\"formulario.html\", prediction=pred_class)\n",
                "\n",
                "if __name__ == \"__main__\":\n",
                "    app.run(debug=True)\n"
            ]
        }
    ],
    "metadata": {
        "kernelspec": {
            "display_name": "Python 3",
            "language": "python",
            "name": "python3"
        },
        "language_info": {
            "codemirror_mode": {
                "name": "ipython",
                "version": 3
            },
            "file_extension": ".py",
            "mimetype": "text/x-python",
            "name": "python",
            "nbconvert_exporter": "python",
            "pygments_lexer": "ipython3",
            "version": "3.10.12"
        },
        "orig_nbformat": 4
    },
    "nbformat": 4,
    "nbformat_minor": 2
}
