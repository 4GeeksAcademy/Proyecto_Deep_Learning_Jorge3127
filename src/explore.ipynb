{
    "cells": [
        {
            "cell_type": "markdown",
            "metadata": {},
            "source": [
                "# Explore here"
            ]
        },
        {
            "cell_type": "code",
            "execution_count": 1,
            "metadata": {},
            "outputs": [],
            "source": [
                "import os\n",
                "from pickle import load\n",
                "\n",
                "model_path = \"/workspaces/Proyecto_Deep_Learning_Jorge3127/models/modelo_adaboost_optimizado.pkl\"\n",
                "\n",
                "# Verificar la existencia del archivo\n",
                "if not os.path.exists(model_path):\n",
                "    raise FileNotFoundError(f\"El archivo {model_path} no existe\")\n",
                "\n",
                "# Cargar el modelo\n",
                "with open(model_path, \"rb\") as f:\n",
                "    model = load(f)\n"
            ]
        }
    ],
    "metadata": {
        "kernelspec": {
            "display_name": "Python 3",
            "language": "python",
            "name": "python3"
        },
        "language_info": {
            "codemirror_mode": {
                "name": "ipython",
                "version": 3
            },
            "file_extension": ".py",
            "mimetype": "text/x-python",
            "name": "python",
            "nbconvert_exporter": "python",
            "pygments_lexer": "ipython3",
            "version": "3.10.12"
        },
        "orig_nbformat": 4
    },
    "nbformat": 4,
    "nbformat_minor": 2
}
